{
 "cells": [
  {
   "cell_type": "markdown",
   "metadata": {},
   "source": [
    "# Brute Force Algorithm"
   ]
  },
  {
   "cell_type": "markdown",
   "metadata": {},
   "source": [
    "> Brute Force Algorithms are exactly what they sound like – straightforward methods of solving a problem that rely on sheer computing power and trying every possibility rather than advanced techniques to improve efficiency.\n",
    "\n",
    "> A classic example in computer science is the traveling salesman problem (TSP). Suppose a salesman needs to visit 10 cities across the country. How does one determine the order in which those cities should be visited such that the total distance traveled is minimized?\n",
    "\n",
    "> The brute force solution is simply to calculate the total distance for every possible route and then select the shortest one. This is not particularly efficient because it is possible to eliminate many possible routes through clever algorithms.\n",
    "\n",
    "> The time complexity of brute force is O(mn), which is sometimes written as O(n*m) . So, if we were to search for a string of \"n\" characters in a string of \"m\" characters using brute force, it would take us n * m tries."
   ]
  },
  {
   "cell_type": "markdown",
   "metadata": {},
   "source": [
    "There are certain requirements that an algorithm must abide by:\n",
    "\n",
    "* **Definiteness**: Each step in the process is precisely stated.\n",
    "* **Effective Computability**: Each step in the process can be carried out by a computer.\n",
    "* **Finiteness**: The program will eventually successfully terminate.\n",
    "\n",
    "`Some common types of algorithms include:`\n",
    "\n",
    "* sorting algorithms\n",
    "* search algorithms\n",
    "* compression algorithms.\n",
    "\n",
    "`Classes of algorithms include`\n",
    "\n",
    "* Graph\n",
    "* Dynamic Programming\n",
    "* Sorting\n",
    "* Searching\n",
    "* Strings\n",
    "* Math\n",
    "* Computational Geometry\n",
    "* Optimization\n",
    "* Miscellaneous.\n",
    "\n",
    "Although technically not a class of algorithms, Data Structures are often grouped with them.\n",
    "\n",
    "**`Efficiency`**\n",
    "> Algorithms are most commonly judged by their efficiency and the amount of computing resources they require to complete their task.\n",
    "\n",
    "> A common way to evaluate an algorithm is to look at its time complexity. This shows how the running time of the algorithm grows as the input size grows. Since the algorithms today have to operate on large data inputs, it is essential for our algorithms to have a reasonably fast running time."
   ]
  }
 ],
 "metadata": {
  "celltoolbar": "Raw Cell Format",
  "kernelspec": {
   "display_name": "Python 3",
   "language": "python",
   "name": "python3"
  },
  "language_info": {
   "codemirror_mode": {
    "name": "ipython",
    "version": 3
   },
   "file_extension": ".py",
   "mimetype": "text/x-python",
   "name": "python",
   "nbconvert_exporter": "python",
   "pygments_lexer": "ipython3",
   "version": "3.7.4"
  }
 },
 "nbformat": 4,
 "nbformat_minor": 4
}
